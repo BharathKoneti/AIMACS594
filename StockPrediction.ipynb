{
 "cells": [
  {
   "cell_type": "code",
   "execution_count": 2,
   "metadata": {
    "scrolled": true
   },
   "outputs": [],
   "source": [
    "import numpy as np\n",
    "import pandas as pd\n",
    "from subprocess import check_output\n",
    "from keras.layers.core import Dense, Activation, Dropout\n",
    "from keras.layers.recurrent import LSTM\n",
    "from keras.layers.recurrent import GRU\n",
    "from keras.models import Sequential\n",
    "from sklearn.cross_validation import  train_test_split\n",
    "import time\n",
    "import math\n",
    "from sklearn.preprocessing import MinMaxScaler\n",
    "import matplotlib.pyplot as plt\n",
    "from numpy import newaxis\n",
    "from sklearn.metrics import mean_squared_error\n",
    "\n",
    "# read the dataset\n",
    "prices_dataset =  pd.read_csv('prices.csv', header=0)"
   ]
  },
  {
   "cell_type": "code",
   "execution_count": 3,
   "metadata": {},
   "outputs": [],
   "source": [
    "def initialize(company,look_back,numday):\n",
    "    data = prices_dataset[prices_dataset['symbol']==str(company)]\n",
    "    stock_prices = data.close.values.astype('float32')\n",
    "    stock_prices = stock_prices.reshape(len(stock_prices), 1)\n",
    "    scaler = MinMaxScaler(feature_range=(0, 1))\n",
    "    stock_prices = scaler.fit_transform(stock_prices)\n",
    "    train_size = int(len(stock_prices) * 0.80)\n",
    "    test_size = len(stock_prices) - train_size\n",
    "    train, test = stock_prices[0:train_size,:], stock_prices[train_size:len(stock_prices),:]\n",
    "\n",
    "# split the data into test and train\n",
    "\n",
    "    dataX, dataY = [], []\n",
    "    for i in range(len(train)-look_back):\n",
    "        a = train[i:(i+look_back), 0]\n",
    "        dataX.append(a)\n",
    "        dataY.append(train[i + look_back, 0])\n",
    "\n",
    "    \n",
    "    trainX = np.array(dataX)\n",
    "    trainY = np.array(dataY)\n",
    "    \n",
    "    dataX, dataY = [], []\n",
    "    for i in range(len(test)-look_back):\n",
    "        a = test[i:(i+look_back), 0]\n",
    "        dataX.append(a)\n",
    "        dataY.append(test[i + look_back, 0])\n",
    "\n",
    "    testX = np.array(dataX)\n",
    "    testY = np.array(dataY)\n",
    "    \n",
    "    trainX = np.reshape(trainX, (trainX.shape[0], 1, trainX.shape[1]))\n",
    "    testX = np.reshape(testX, (testX.shape[0], 1, testX.shape[1]))\n",
    "    \n",
    "    # initialize the model\n",
    "    model = Sequential()\n",
    "\n",
    "    model.add(LSTM(\n",
    "        input_dim=look_back,\n",
    "        output_dim=50,\n",
    "        return_sequences=True))\n",
    "    model.add(Dropout(0.2))\n",
    "\n",
    "    model.add(LSTM(\n",
    "        100,\n",
    "        return_sequences=False))\n",
    "    model.add(Dropout(0.2))\n",
    "\n",
    "    model.add(Dense(\n",
    "        output_dim=1))\n",
    "    model.add(Activation('linear'))\n",
    "\n",
    "    start = time.time()\n",
    "    model.compile(loss='mse', optimizer='rmsprop')\n",
    "    print ('compilation time : ', time.time() - start)\n",
    "    \n",
    "    model.fit(\n",
    "    trainX,\n",
    "    trainY,\n",
    "    batch_size=100,\n",
    "    nb_epoch=50,\n",
    "    validation_split=0.05)\n",
    "    \n",
    "    plt.plot(scaler.inverse_transform(testY.reshape(-1, 1)))\n",
    "    plt.plot(scaler.inverse_transform(np.array(model.predict(testX)).reshape(-1, 1)))\n",
    "    plt.legend()\n",
    "    plt.show()\n",
    "    \n",
    "    x = predict_n(numday,testX,model,look_back)\n",
    "    x = scaler.inverse_transform(np.array(x).reshape(-1, 1))\n",
    "\n",
    "    for i in range(0,len(x)):\n",
    "        print(\"The prediction for day \"+str(i+1)+\" is \"+ str(x[i-1][0]))\n",
    "    \n",
    "    \n",
    "    trainPredict = model.predict(trainX)\n",
    "    testPredict = model.predict(testX)\n",
    "    # invert predictions\n",
    "    trainPredict = scaler.inverse_transform(trainPredict)\n",
    "    trainY = scaler.inverse_transform([trainY])\n",
    "    testPredict = scaler.inverse_transform(testPredict)\n",
    "    testY = scaler.inverse_transform([testY])\n",
    "    # calculate root mean squared error\n",
    "    trainScore = math.sqrt(mean_squared_error(trainY[0], trainPredict[:,0]))\n",
    "    print('Train Score: %.2f RMSE' % (trainScore))\n",
    "    testScore = math.sqrt(mean_squared_error(testY[0], testPredict[:,0]))\n",
    "    print('Test Score: %.2f RMSE' % (testScore))\n",
    "    \n",
    "    if (len(x)>=2):\n",
    "        plt.plot(x)\n",
    "        plt.legend()\n",
    "        plt.show()"
   ]
  },
  {
   "cell_type": "code",
   "execution_count": 12,
   "metadata": {},
   "outputs": [],
   "source": [
    "def initializeGRU(company,look_back,numday):\n",
    "    data = prices_dataset[prices_dataset['symbol']==str(company)]\n",
    "    stock_prices = data.close.values.astype('float32')\n",
    "    stock_prices = stock_prices.reshape(len(stock_prices), 1)\n",
    "    scaler = MinMaxScaler(feature_range=(0, 1))\n",
    "    stock_prices = scaler.fit_transform(stock_prices)\n",
    "    train_size = int(len(stock_prices) * 0.80)\n",
    "    test_size = len(stock_prices) - train_size\n",
    "    train, test = stock_prices[0:train_size,:], stock_prices[train_size:len(stock_prices),:]\n",
    "\n",
    "# split the data into test and train\n",
    "\n",
    "    dataX, dataY = [], []\n",
    "    for i in range(len(train)-look_back):\n",
    "        a = train[i:(i+look_back), 0]\n",
    "        dataX.append(a)\n",
    "        dataY.append(train[i + look_back, 0])\n",
    "\n",
    "    \n",
    "    trainX = np.array(dataX)\n",
    "    trainY = np.array(dataY)\n",
    "    \n",
    "    dataX, dataY = [], []\n",
    "    for i in range(len(test)-look_back):\n",
    "        a = test[i:(i+look_back), 0]\n",
    "        dataX.append(a)\n",
    "        dataY.append(test[i + look_back, 0])\n",
    "\n",
    "    testX = np.array(dataX)\n",
    "    testY = np.array(dataY)\n",
    "    \n",
    "    trainX = np.reshape(trainX, (trainX.shape[0], 1, trainX.shape[1]))\n",
    "    testX = np.reshape(testX, (testX.shape[0], 1, testX.shape[1]))\n",
    "    \n",
    "    # initialize the model\n",
    "    model = Sequential()\n",
    "\n",
    "    model.add(GRU(\n",
    "        input_dim=look_back,\n",
    "        output_dim=50,\n",
    "        return_sequences=True))\n",
    "    model.add(Dropout(0.2))\n",
    "\n",
    "    model.add(GRU(\n",
    "        100,\n",
    "        return_sequences=False))\n",
    "    model.add(Dropout(0.2))\n",
    "\n",
    "    model.add(Dense(\n",
    "        output_dim=1))\n",
    "    model.add(Activation('linear'))\n",
    "\n",
    "    start = time.time()\n",
    "    model.compile(loss='mse', optimizer='rmsprop')\n",
    "    print ('compilation time : ', time.time() - start)\n",
    "    \n",
    "    model.fit(\n",
    "    trainX,\n",
    "    trainY,\n",
    "    batch_size=100,\n",
    "    nb_epoch=50,\n",
    "    validation_split=0.05)\n",
    "    \n",
    "    plt.plot(scaler.inverse_transform(testY.reshape(-1, 1)))\n",
    "    plt.plot(scaler.inverse_transform(np.array(model.predict(testX)).reshape(-1, 1)))\n",
    "    plt.legend()\n",
    "    plt.show()\n",
    "    \n",
    "    x = predict_n(numday,testX,model,look_back)\n",
    "    x = scaler.inverse_transform(np.array(x).reshape(-1, 1))\n",
    "    \n",
    "    for i in range(0,len(x)):\n",
    "        print(\"The prediction for day \"+str(i+1)+\" is \"+ str(x[i-1][0]))\n",
    "    \n",
    "    \n",
    "    trainPredict = model.predict(trainX)\n",
    "    testPredict = model.predict(testX)\n",
    "    # invert predictions\n",
    "    trainPredict = scaler.inverse_transform(trainPredict)\n",
    "    trainY = scaler.inverse_transform([trainY])\n",
    "    testPredict = scaler.inverse_transform(testPredict)\n",
    "    testY = scaler.inverse_transform([testY])\n",
    "    # calculate root mean squared error\n",
    "    trainScore = math.sqrt(mean_squared_error(trainY[0], trainPredict[:,0]))\n",
    "    print('Train Score: %.2f RMSE' % (trainScore))\n",
    "    testScore = math.sqrt(mean_squared_error(testY[0], testPredict[:,0]))\n",
    "    print('Test Score: %.2f RMSE' % (testScore))\n",
    "\n",
    "    if (len(x)>=2):\n",
    "        x=[ I[0] for I in x ]\n",
    "        plt.plot(x)\n",
    "        plt.legend()\n",
    "        plt.show()"
   ]
  },
  {
   "cell_type": "code",
   "execution_count": 5,
   "metadata": {},
   "outputs": [],
   "source": [
    "\n",
    "\n",
    "\n",
    "# predicts stock price for nth day\n",
    "def predict_n(number, testX, model,look_back):\n",
    "    predicted = []\n",
    "    arr = np.reshape(testX[len(testX)-1], (testX[len(testX)-1].shape[0], 1, testX[len(testX)-1].shape[1]))\n",
    "    for i in range(int(number)):\n",
    "        curr = model.predict(arr)\n",
    "        for j in range(look_back-1):\n",
    "            arr[0][0][j] = arr[0][0][j+1]\n",
    "        arr[0][0][look_back-1] = curr\n",
    "        predicted.append(curr)\n",
    "    return predicted"
   ]
  },
  {
   "cell_type": "code",
   "execution_count": 6,
   "metadata": {},
   "outputs": [],
   "source": [
    "def crowd_sentiment(company):\n",
    "    stocktwits_data =  pd.read_csv('StockTwits_SPY.csv', header=0)\n",
    "    senti = stocktwits_data.sentiment.values.astype('str')\n",
    "    pos = 0\n",
    "    neg = 0\n",
    "    for i in senti:\n",
    "        if i == 'bearish':\n",
    "            neg += 1\n",
    "        elif i == 'bullish':\n",
    "            pos += 1\n",
    "            \n",
    "        if pos > neg:\n",
    "            return \"BULLISH\"\n",
    "        elif pos < neg:\n",
    "            return \"BEARISH\"\n",
    "        else:\n",
    "            return \"NEUTRAL\"\n"
   ]
  },
  {
   "cell_type": "code",
   "execution_count": 7,
   "metadata": {},
   "outputs": [],
   "source": [
    "import watson_developer_cloud\n",
    "\n",
    "# Set up Assistant service.\n",
    "service = watson_developer_cloud.AssistantV1(\n",
    "  username = '9dcd5dac-d49b-42b0-85d6-4e5c0784ffd1', # replace with service username\n",
    "  password = 'k4MH5tw21Qa1', # replace with service password\n",
    "  version = '2018-02-16'\n",
    ")\n",
    "workspace_id = 'ef22da03-446b-45bc-a91d-2e39fb835dd9' # replace with workspace ID\n"
   ]
  },
  {
   "cell_type": "code",
   "execution_count": 11,
   "metadata": {
    "scrolled": false
   },
   "outputs": [
    {
     "name": "stdout",
     "output_type": "stream",
     "text": [
      "Hi. Welcome to stock value predictor. What would you like to do?\n",
      ">> stock\n",
      "How many days you want to see the forecast?\n",
      ">> 5\n",
      "Which method would you like to use (LSTM, GRU)?\n",
      ">> GRU\n",
      "Which stocks forecast would you like to see? Please enter ticker number\n",
      ">> MSFT\n"
     ]
    },
    {
     "name": "stderr",
     "output_type": "stream",
     "text": [
      "c:\\users\\smuminov\\appdata\\local\\continuum\\anaconda3\\envs\\tensorflow\\lib\\site-packages\\ipykernel_launcher.py:41: UserWarning: The `input_dim` and `input_length` arguments in recurrent layers are deprecated. Use `input_shape` instead.\n",
      "c:\\users\\smuminov\\appdata\\local\\continuum\\anaconda3\\envs\\tensorflow\\lib\\site-packages\\ipykernel_launcher.py:41: UserWarning: Update your `GRU` call to the Keras 2 API: `GRU(input_shape=(None, 2), units=50, return_sequences=True)`\n",
      "c:\\users\\smuminov\\appdata\\local\\continuum\\anaconda3\\envs\\tensorflow\\lib\\site-packages\\ipykernel_launcher.py:50: UserWarning: Update your `Dense` call to the Keras 2 API: `Dense(units=1)`\n",
      "c:\\users\\smuminov\\appdata\\local\\continuum\\anaconda3\\envs\\tensorflow\\lib\\site-packages\\keras\\models.py:981: UserWarning: The `nb_epoch` argument in `fit` has been renamed `epochs`.\n",
      "  warnings.warn('The `nb_epoch` argument in `fit` '\n"
     ]
    },
    {
     "name": "stdout",
     "output_type": "stream",
     "text": [
      "compilation time :  0.017012596130371094\n",
      "Train on 1336 samples, validate on 71 samples\n",
      "Epoch 1/50\n",
      "1336/1336 [==============================] - 1s 695us/step - loss: 0.0274 - val_loss: 0.0217\n",
      "Epoch 2/50\n",
      "1336/1336 [==============================] - 0s 50us/step - loss: 0.0056 - val_loss: 0.0091\n",
      "Epoch 3/50\n",
      "1336/1336 [==============================] - 0s 52us/step - loss: 0.0018 - val_loss: 0.0012\n",
      "Epoch 4/50\n",
      "1336/1336 [==============================] - 0s 56us/step - loss: 0.0011 - val_loss: 2.5311e-04\n",
      "Epoch 5/50\n",
      "1336/1336 [==============================] - 0s 57us/step - loss: 0.0011 - val_loss: 0.0065\n",
      "Epoch 6/50\n",
      "1336/1336 [==============================] - 0s 56us/step - loss: 0.0013 - val_loss: 2.2474e-04\n",
      "Epoch 7/50\n",
      "1336/1336 [==============================] - 0s 55us/step - loss: 0.0011 - val_loss: 2.7287e-04\n",
      "Epoch 8/50\n",
      "1336/1336 [==============================] - 0s 57us/step - loss: 9.9722e-04 - val_loss: 2.3614e-04\n",
      "Epoch 9/50\n",
      "1336/1336 [==============================] - 0s 53us/step - loss: 9.8056e-04 - val_loss: 2.6358e-04\n",
      "Epoch 10/50\n",
      "1336/1336 [==============================] - 0s 55us/step - loss: 9.3744e-04 - val_loss: 4.4968e-04\n",
      "Epoch 11/50\n",
      "1336/1336 [==============================] - 0s 52us/step - loss: 9.5588e-04 - val_loss: 2.9857e-04\n",
      "Epoch 12/50\n",
      "1336/1336 [==============================] - 0s 59us/step - loss: 8.4384e-04 - val_loss: 2.3456e-04\n",
      "Epoch 13/50\n",
      "1336/1336 [==============================] - 0s 54us/step - loss: 9.5926e-04 - val_loss: 2.2381e-04\n",
      "Epoch 14/50\n",
      "1336/1336 [==============================] - 0s 55us/step - loss: 7.1519e-04 - val_loss: 7.8999e-04\n",
      "Epoch 15/50\n",
      "1336/1336 [==============================] - 0s 53us/step - loss: 9.1785e-04 - val_loss: 3.4147e-04\n",
      "Epoch 16/50\n",
      "1336/1336 [==============================] - 0s 59us/step - loss: 6.8691e-04 - val_loss: 7.0233e-04\n",
      "Epoch 17/50\n",
      "1336/1336 [==============================] - 0s 53us/step - loss: 8.1088e-04 - val_loss: 3.5080e-04\n",
      "Epoch 18/50\n",
      "1336/1336 [==============================] - 0s 60us/step - loss: 8.5697e-04 - val_loss: 0.0010\n",
      "Epoch 19/50\n",
      "1336/1336 [==============================] - 0s 58us/step - loss: 7.3427e-04 - val_loss: 2.1425e-04\n",
      "Epoch 20/50\n",
      "1336/1336 [==============================] - 0s 55us/step - loss: 7.9945e-04 - val_loss: 2.5020e-04\n",
      "Epoch 21/50\n",
      "1336/1336 [==============================] - 0s 55us/step - loss: 7.7216e-04 - val_loss: 2.5266e-04\n",
      "Epoch 22/50\n",
      "1336/1336 [==============================] - 0s 56us/step - loss: 9.4503e-04 - val_loss: 3.4827e-04\n",
      "Epoch 23/50\n",
      "1336/1336 [==============================] - 0s 52us/step - loss: 7.6329e-04 - val_loss: 0.0011\n",
      "Epoch 24/50\n",
      "1336/1336 [==============================] - 0s 58us/step - loss: 6.7681e-04 - val_loss: 0.0023\n",
      "Epoch 25/50\n",
      "1336/1336 [==============================] - 0s 52us/step - loss: 6.7023e-04 - val_loss: 2.1871e-04\n",
      "Epoch 26/50\n",
      "1336/1336 [==============================] - 0s 55us/step - loss: 7.7958e-04 - val_loss: 9.5272e-04\n",
      "Epoch 27/50\n",
      "1336/1336 [==============================] - 0s 51us/step - loss: 7.8483e-04 - val_loss: 8.9046e-04\n",
      "Epoch 28/50\n",
      "1336/1336 [==============================] - 0s 54us/step - loss: 5.6260e-04 - val_loss: 6.0035e-04\n",
      "Epoch 29/50\n",
      "1336/1336 [==============================] - 0s 55us/step - loss: 7.4292e-04 - val_loss: 0.0014\n",
      "Epoch 30/50\n",
      "1336/1336 [==============================] - 0s 51us/step - loss: 6.3497e-04 - val_loss: 3.4115e-04\n",
      "Epoch 31/50\n",
      "1336/1336 [==============================] - 0s 55us/step - loss: 6.4129e-04 - val_loss: 0.0010\n",
      "Epoch 32/50\n",
      "1336/1336 [==============================] - 0s 60us/step - loss: 6.7879e-04 - val_loss: 2.4516e-04\n",
      "Epoch 33/50\n",
      "1336/1336 [==============================] - 0s 53us/step - loss: 7.8641e-04 - val_loss: 5.9494e-04\n",
      "Epoch 34/50\n",
      "1336/1336 [==============================] - 0s 55us/step - loss: 6.0896e-04 - val_loss: 0.0010\n",
      "Epoch 35/50\n",
      "1336/1336 [==============================] - 0s 55us/step - loss: 7.0116e-04 - val_loss: 0.0029\n",
      "Epoch 36/50\n",
      "1336/1336 [==============================] - 0s 54us/step - loss: 6.3084e-04 - val_loss: 2.2890e-04\n",
      "Epoch 37/50\n",
      "1336/1336 [==============================] - 0s 55us/step - loss: 5.6282e-04 - val_loss: 0.0011\n",
      "Epoch 38/50\n",
      "1336/1336 [==============================] - 0s 55us/step - loss: 7.8807e-04 - val_loss: 6.3204e-04\n",
      "Epoch 39/50\n",
      "1336/1336 [==============================] - 0s 52us/step - loss: 6.4414e-04 - val_loss: 7.2879e-04\n",
      "Epoch 40/50\n",
      "1336/1336 [==============================] - 0s 55us/step - loss: 5.5235e-04 - val_loss: 2.5453e-04\n",
      "Epoch 41/50\n",
      "1336/1336 [==============================] - 0s 55us/step - loss: 6.7369e-04 - val_loss: 0.0018\n",
      "Epoch 42/50\n",
      "1336/1336 [==============================] - 0s 53us/step - loss: 6.2808e-04 - val_loss: 2.6238e-04\n",
      "Epoch 43/50\n",
      "1336/1336 [==============================] - 0s 56us/step - loss: 5.6157e-04 - val_loss: 0.0030\n",
      "Epoch 44/50\n",
      "1336/1336 [==============================] - 0s 54us/step - loss: 5.9610e-04 - val_loss: 2.7064e-04\n",
      "Epoch 45/50\n",
      "1336/1336 [==============================] - 0s 57us/step - loss: 5.9496e-04 - val_loss: 4.0525e-04\n",
      "Epoch 46/50\n",
      "1336/1336 [==============================] - 0s 51us/step - loss: 5.9103e-04 - val_loss: 2.0625e-04\n",
      "Epoch 47/50\n",
      "1336/1336 [==============================] - 0s 52us/step - loss: 6.8409e-04 - val_loss: 5.7474e-04\n",
      "Epoch 48/50\n",
      "1336/1336 [==============================] - 0s 53us/step - loss: 6.3125e-04 - val_loss: 3.2625e-04\n",
      "Epoch 49/50\n",
      "1336/1336 [==============================] - 0s 55us/step - loss: 6.2027e-04 - val_loss: 0.0012\n",
      "Epoch 50/50\n",
      "1336/1336 [==============================] - 0s 55us/step - loss: 5.8020e-04 - val_loss: 0.0013\n"
     ]
    },
    {
     "name": "stderr",
     "output_type": "stream",
     "text": [
      "No handles with labels found to put in legend.\n"
     ]
    },
    {
     "data": {
      "image/png": "[encoded data removed]",
      "text/plain": [
       "<Figure size 432x288 with 1 Axes>"
      ]
     },
     "metadata": {},
     "output_type": "display_data"
    },
    {
     "name": "stderr",
     "output_type": "stream",
     "text": [
      "No handles with labels found to put in legend.\n"
     ]
    },
    {
     "name": "stdout",
     "output_type": "stream",
     "text": [
      "The prediction for day 1 is 53.295185\n"
     ]
    },
    {
     "data": {
      "image/png": "[encoded data removed]",
      "text/plain": [
       "<Figure size 432x288 with 1 Axes>"
      ]
     },
     "metadata": {},
     "output_type": "display_data"
    },
    {
     "name": "stderr",
     "output_type": "stream",
     "text": [
      "No handles with labels found to put in legend.\n"
     ]
    },
    {
     "name": "stdout",
     "output_type": "stream",
     "text": [
      "The prediction for day 2 is 59.981483\n"
     ]
    },
    {
     "data": {
      "image/png": "[encoded data removed]",
      "text/plain": [
       "<Figure size 432x288 with 1 Axes>"
      ]
     },
     "metadata": {},
     "output_type": "display_data"
    },
    {
     "name": "stderr",
     "output_type": "stream",
     "text": [
      "No handles with labels found to put in legend.\n"
     ]
    },
    {
     "name": "stdout",
     "output_type": "stream",
     "text": [
      "The prediction for day 3 is 58.342472\n"
     ]
    },
    {
     "data": {
      "image/png": "[encoded data removed]",
      "text/plain": [
       "<Figure size 432x288 with 1 Axes>"
      ]
     },
     "metadata": {},
     "output_type": "display_data"
    },
    {
     "name": "stdout",
     "output_type": "stream",
     "text": [
      "The prediction for day 4 is 56.451363\n"
     ]
    },
    {
     "name": "stderr",
     "output_type": "stream",
     "text": [
      "No handles with labels found to put in legend.\n"
     ]
    },
    {
     "data": {
      "image/png": "[encoded data removed]",
      "text/plain": [
       "<Figure size 432x288 with 1 Axes>"
      ]
     },
     "metadata": {},
     "output_type": "display_data"
    },
    {
     "name": "stderr",
     "output_type": "stream",
     "text": [
      "No handles with labels found to put in legend.\n"
     ]
    },
    {
     "name": "stdout",
     "output_type": "stream",
     "text": [
      "The prediction for day 5 is 54.841652\n"
     ]
    },
    {
     "data": {
      "image/png": "[encoded data removed]",
      "text/plain": [
       "<Figure size 432x288 with 1 Axes>"
      ]
     },
     "metadata": {},
     "output_type": "display_data"
    },
    {
     "name": "stderr",
     "output_type": "stream",
     "text": [
      "No handles with labels found to put in legend.\n"
     ]
    },
    {
     "name": "stdout",
     "output_type": "stream",
     "text": [
      "Train Score: 0.87 RMSE\n",
      "Test Score: 2.34 RMSE\n"
     ]
    },
    {
     "data": {
      "image/png": "[encoded data removed]",
      "text/plain": [
       "<Figure size 432x288 with 1 Axes>"
      ]
     },
     "metadata": {},
     "output_type": "display_data"
    },
    {
     "name": "stderr",
     "output_type": "stream",
     "text": [
      "c:\\users\\smuminov\\appdata\\local\\continuum\\anaconda3\\envs\\tensorflow\\lib\\site-packages\\IPython\\core\\interactiveshell.py:2903: DtypeWarning: Columns (7) have mixed types. Specify dtype option on import or set low_memory=False.\n",
      "  if self.run_code(code, result):\n"
     ]
    },
    {
     "name": "stdout",
     "output_type": "stream",
     "text": [
      "Overall sentiment for stock is BEARISH\n",
      "If you would like, enter another ticker for forecast:\n",
      ">> bye\n",
      "OK! See you later.\n"
     ]
    }
   ],
   "source": [
    "# Initialize with empty value to start the conversation.\n",
    "user_input = ''\n",
    "context = {}\n",
    "current_action = ''\n",
    "days = 1\n",
    "methodu=\"LSTM\"\n",
    "\n",
    "# Main input/output loop\n",
    "while current_action != 'end_conversation':\n",
    "\n",
    "  # Send message to Assistant service.\n",
    "  response = service.message(\n",
    "    workspace_id = workspace_id,\n",
    "    input = {\n",
    "      'text': user_input\n",
    "    },\n",
    "    context = context\n",
    "  )\n",
    "    \n",
    "  if response['intents']:\n",
    "    if response['intents']==[{'intent': 'number', 'confidence': 1}]:\n",
    "        days=user_input\n",
    "        \n",
    "  if(response['intents']==[{'confidence': 1, 'intent': 'methodused'}]):\n",
    "    if(user_input==\"LSTM\"):\n",
    "        methodu=\"LSTM\"\n",
    "    else:\n",
    "        methodu=\"GRU\"\n",
    "    \n",
    "        \n",
    "  if response['intents']:\n",
    "    if response['intents']==[{'confidence': 1, 'intent': 'stocks'}]:\n",
    "\n",
    "        if(methodu==\"LSTM\"):\n",
    "            initialize(user_input,2,days)\n",
    "        else:\n",
    "            initializeGRU(user_input,2,days)\n",
    "        \n",
    "        #sentiment from stock twits\n",
    "        if(user_input==\"MSFT\"):\n",
    "            sentiment = crowd_sentiment(\"SPY\")\n",
    "            print(\"Overall sentiment for stock is \" + sentiment)\n",
    "        \n",
    "  # Print the output from dialog, if any.\n",
    "  if response['output']['text']:\n",
    "    print(response['output']['text'][0])\n",
    "    \n",
    "  # Update the stored context with the latest received from the dialog.\n",
    "  context = response['context']\n",
    "  # Check for action flags sent by the dialog.\n",
    "  \n",
    "    \n",
    "  if 'action' in response['output']:\n",
    "    current_action = response['output']['action']\n",
    "\n",
    "  # If we're not done, prompt for next round of input.\n",
    "  if current_action != 'end_conversation':\n",
    "    user_input = input('>> ')"
   ]
  },
  {
   "cell_type": "code",
   "execution_count": null,
   "metadata": {},
   "outputs": [],
   "source": [
    "data"
   ]
  }
 ],
 "metadata": {
  "kernelspec": {
   "display_name": "Python 3",
   "language": "python",
   "name": "python3"
  },
  "language_info": {
   "codemirror_mode": {
    "name": "ipython",
    "version": 3
   },
   "file_extension": ".py",
   "mimetype": "text/x-python",
   "name": "python",
   "nbconvert_exporter": "python",
   "pygments_lexer": "ipython3",
   "version": "3.5.5"
  }
 },
 "nbformat": 4,
 "nbformat_minor": 2
}
